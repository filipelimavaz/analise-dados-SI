{
 "cells": [
  {
   "cell_type": "markdown",
   "metadata": {},
   "source": [
    "# Análise de Dados - UFPB\n",
    "\n",
    "**Professor** : Marcus Carvalho\n",
    "\n",
    "Aluno: [Insira seu nome]\n",
    "\n",
    "## Laboratório: Manipulação de Dados\n",
    "\n",
    "Nesta atividade prática, você deve usar a biblioteca Pandas de Python para exercitar a manipulação dados.\n",
    "O dataset usado como exemplo será de notas de alunos em algumas turmas ofertadas para o curso de Sistemas de Informação da UFPB.\n",
    "A tabela tem duas colunas: `disciplina` e `nota`. Cada linha representa a nota final de um aluno que cursou a disciplina em uma turma.\n",
    "Por exemplo, se a disciplina \"SISTEMAS DISTRIBUIDOS\" teve 30 alunos, existirão 30 linhas com o par `<SISTEMAS DISTRIBUIDOS, nota_do_aluno>`, sendo uma para cada aluno.\n",
    "\n",
    "Carregue e manipule os dados para responder as questões. Tente usar apenas código para responder as questões nos blocos de código."
   ]
  },
  {
   "cell_type": "markdown",
   "metadata": {},
   "source": [
    "### Carregamento dos dados\n",
    "\n",
    "Para iniciar, importe as bibliotecas necessárias e carregue o arquivo `dados/exemplo_notas_si.csv` usando o Pandas e imprima o DataFrame para entender o formato dos dados."
   ]
  },
  {
   "cell_type": "code",
   "execution_count": null,
   "metadata": {},
   "outputs": [],
   "source": [
    "# INSIRA SEU CÓDIGO AQUI\n",
    "\n",
    "import numpy as np\n",
    "import pandas as pd\n",
    "\n",
    "notas_si = pd.read_csv(\"dados/exemplo_notas_si.csv\")\n",
    "notas_si.info()"
   ]
  },
  {
   "cell_type": "markdown",
   "metadata": {},
   "source": [
    "### Filtragem de dados\n",
    "\n",
    "Com base na tabela de notas dos alunos, aplique alguns filtros e ordenação nos dados.\n",
    "\n",
    "#### Mostre apenas as linhas com as notas igual a 10"
   ]
  },
  {
   "cell_type": "code",
   "execution_count": null,
   "metadata": {},
   "outputs": [],
   "source": [
    "# INSIRA SEU CÓDIGO AQUI\n",
    "\n",
    "notas_10 = notas_si[notas_si['nota'] == 10]\n",
    "\n",
    "print(notas_10)"
   ]
  },
  {
   "cell_type": "markdown",
   "metadata": {},
   "source": [
    "#### Mostre apenas as notas da disciplina \"SISTEMAS DISTRIBUIDOS\", ordenadas da maior para a menor nota"
   ]
  },
  {
   "cell_type": "code",
   "execution_count": null,
   "metadata": {},
   "outputs": [],
   "source": [
    "# INSIRA SEU CÓDIGO AQUI\n",
    "\n",
    "sistemas_distribuidos = notas_si[notas_si['disciplina'] == 'SISTEMAS DISTRIBUIDOS']\n",
    "sistemas_distribuidos_sorted = sistemas_distribuidos.sort_values(by='nota', ascending=False)\n",
    "print(sistemas_distribuidos)"
   ]
  },
  {
   "cell_type": "markdown",
   "metadata": {},
   "source": [
    "### Média geral das disciplinas\n",
    "\n",
    "Crie um novo dataframe que agrupe os dados por disciplina e aplique uma função de agregação que calcule a **média** geral das notas de cada disciplina.\n",
    "Cada disciplina terá apenas uma linha com o seu nome e média das notas de todos os alunos daquela disciplina.\n",
    "Exiba o dataframe para visualizar se deu certo."
   ]
  },
  {
   "cell_type": "code",
   "execution_count": null,
   "metadata": {},
   "outputs": [],
   "source": [
    "# INSIRA SEU CÓDIGO AQUI\n",
    "\n",
    "media_por_disciplina = notas_si.groupby('disciplina')['nota'].mean().reset_index()\n",
    "media_por_disciplina = media_por_disciplina.rename(columns={'nota': 'media_notas'})\n",
    "print(media_por_disciplina)"
   ]
  },
  {
   "cell_type": "markdown",
   "metadata": {},
   "source": [
    "#### Qual disciplina teve a maior média?"
   ]
  },
  {
   "cell_type": "code",
   "execution_count": null,
   "metadata": {},
   "outputs": [],
   "source": [
    "# INSIRA SEU CÓDIGO AQUI\n",
    "\n",
    "disciplina_maior_media = media_por_disciplina[media_por_disciplina['media_notas'] == media_por_disciplina['media_notas'].max()]\n",
    "nome_disciplina_maior_media = disciplina_maior_media['disciplina'].values[0]\n",
    "print(nome_disciplina_maior_media)"
   ]
  },
  {
   "cell_type": "markdown",
   "metadata": {},
   "source": [
    "#### Qual disciplina teve a menor média?"
   ]
  },
  {
   "cell_type": "code",
   "execution_count": null,
   "metadata": {},
   "outputs": [],
   "source": [
    "# INSIRA SEU CÓDIGO AQUI\n",
    "\n",
    "disciplina_menor_media = media_por_disciplina[media_por_disciplina['media_notas'] == media_por_disciplina['media_notas'].min()]\n",
    "nome_disciplina_menor_media = disciplina_menor_media['disciplina'].values[0]\n",
    "print(nome_disciplina_menor_media)"
   ]
  },
  {
   "cell_type": "markdown",
   "metadata": {},
   "source": [
    "### Quantidade de alunos por disciplina\n",
    "\n",
    "Crie um novo dataframe que calcule a quantidade de alunos por disciplina."
   ]
  },
  {
   "cell_type": "code",
   "execution_count": null,
   "metadata": {},
   "outputs": [],
   "source": [
    "# INSIRA SEU CÓDIGO AQUI\n",
    "\n",
    "quantidade_alunos_por_disciplina = notas_si.groupby('disciplina').size().reset_index(name='quantidade_alunos')\n",
    "print(quantidade_alunos_por_disciplina)"
   ]
  },
  {
   "cell_type": "markdown",
   "metadata": {},
   "source": [
    "#### Qual disciplina teve a maior quantidade de alunos?"
   ]
  },
  {
   "cell_type": "code",
   "execution_count": null,
   "metadata": {},
   "outputs": [],
   "source": [
    "# INSIRA SEU CÓDIGO AQUI\n",
    "\n",
    "disciplina_maior_quantidade_alunos = quantidade_alunos_por_disciplina[quantidade_alunos_por_disciplina['quantidade_alunos'] == quantidade_alunos_por_disciplina['quantidade_alunos'].max()]\n",
    "nome_disciplina_maior_quantidade_alunos = disciplina_maior_quantidade_alunos['disciplina'].values[0]\n",
    "print(nome_disciplina_maior_quantidade_alunos)"
   ]
  },
  {
   "cell_type": "markdown",
   "metadata": {},
   "source": [
    "#### Qual disciplina teve a menor quantidade de alunos?"
   ]
  },
  {
   "cell_type": "code",
   "execution_count": null,
   "metadata": {},
   "outputs": [],
   "source": [
    "# INSIRA SEU CÓDIGO AQUI\n",
    "\n",
    "disciplina_menor_quantidade_alunos = quantidade_alunos_por_disciplina[quantidade_alunos_por_disciplina['quantidade_alunos'] == quantidade_alunos_por_disciplina['quantidade_alunos'].min()]\n",
    "nome_disciplina_menor_quantidade_alunos = disciplina_menor_quantidade_alunos['disciplina'].values[0]\n",
    "print(nome_disciplina_menor_quantidade_alunos)"
   ]
  },
  {
   "cell_type": "markdown",
   "metadata": {},
   "source": [
    "### Percentual de aprovados por disciplina\n",
    "\n",
    "Crie um novo dataframe que calcule o percentual de alunos por disciplina, considerando que a nota mínima para aprovação é 5.\n"
   ]
  },
  {
   "cell_type": "code",
   "execution_count": null,
   "metadata": {},
   "outputs": [],
   "source": [
    "# INSIRA SEU CÓDIGO AQUI\n",
    "\n",
    "notas_si['aprovado'] = notas_si['nota'] >= 5\n",
    "\n",
    "percentual_aprovados_por_disciplina = notas_si.groupby('disciplina')['aprovado'].mean() * 100\n",
    "percentual_aprovados_por_disciplina = percentual_aprovados_por_disciplina.reset_index(name='percentual_aprovados')\n",
    "print(percentual_aprovados_por_disciplina)"
   ]
  },
  {
   "cell_type": "markdown",
   "metadata": {},
   "source": [
    "#### Qual a disciplina com a maior taxa de aprovação?\n"
   ]
  },
  {
   "cell_type": "code",
   "execution_count": null,
   "metadata": {},
   "outputs": [],
   "source": [
    "# INSIRA SEU CÓDIGO AQUI\n",
    "\n",
    "disciplina_maior_taxa_aprovacao = percentual_aprovados_por_disciplina[percentual_aprovados_por_disciplina['percentual_aprovados'] == percentual_aprovados_por_disciplina['percentual_aprovados'].max()]\n",
    "nome_disciplina_maior_taxa_aprovacao = disciplina_maior_taxa_aprovacao['disciplina'].values[0]\n",
    "print(nome_disciplina_maior_taxa_aprovacao)"
   ]
  },
  {
   "cell_type": "markdown",
   "metadata": {},
   "source": [
    "#### Qual a disciplina com a menor taxa de aprovação?\n"
   ]
  },
  {
   "cell_type": "code",
   "execution_count": null,
   "metadata": {},
   "outputs": [],
   "source": [
    "# INSIRA SEU CÓDIGO AQUI\n",
    "\n",
    "disciplina_menor_taxa_aprovacao = percentual_aprovados_por_disciplina[percentual_aprovados_por_disciplina['percentual_aprovados'] == percentual_aprovados_por_disciplina['percentual_aprovados'].min()]\n",
    "nome_disciplina_menor_taxa_aprovacao = disciplina_menor_taxa_aprovacao['disciplina'].values[0]\n",
    "print(nome_disciplina_menor_taxa_aprovacao)"
   ]
  }
 ],
 "metadata": {
  "kernelspec": {
   "display_name": "Python 3.10.1 64-bit",
   "language": "python",
   "name": "python3"
  },
  "language_info": {
   "codemirror_mode": {
    "name": "ipython",
    "version": 3
   },
   "file_extension": ".py",
   "mimetype": "text/x-python",
   "name": "python",
   "nbconvert_exporter": "python",
   "pygments_lexer": "ipython3",
   "version": "3.12.0"
  },
  "orig_nbformat": 4,
  "vscode": {
   "interpreter": {
    "hash": "369f2c481f4da34e4445cda3fffd2e751bd1c4d706f27375911949ba6bb62e1c"
   }
  }
 },
 "nbformat": 4,
 "nbformat_minor": 2
}
